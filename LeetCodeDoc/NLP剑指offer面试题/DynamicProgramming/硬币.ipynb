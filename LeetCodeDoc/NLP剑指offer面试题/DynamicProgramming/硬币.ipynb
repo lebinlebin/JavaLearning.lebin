{
 "cells": [
  {
   "cell_type": "code",
   "execution_count": 20,
   "metadata": {},
   "outputs": [],
   "source": [
    "min_num = 999999\n",
    "def coins_backtracking(values, target, cur_value, coins_count):\n",
    "    if cur_value >= target:\n",
    "        global min_num\n",
    "        min_num = min(coins_count, min_num)\n",
    "    else:\n",
    "        for n in values:\n",
    "            if cur_value + n <= target:\n",
    "                coins_backtracking(values, target, cur_value+n, coins_count+1)"
   ]
  },
  {
   "cell_type": "code",
   "execution_count": 26,
   "metadata": {},
   "outputs": [
    {
     "name": "stdout",
     "output_type": "stream",
     "text": [
      "5\n"
     ]
    }
   ],
   "source": [
    "values = [1, 3, 5]\n",
    "target = 23\n",
    "coins_backtracking(values, target, 0, 0)\n",
    "print(min_num)"
   ]
  },
  {
   "cell_type": "code",
   "execution_count": null,
   "metadata": {},
   "outputs": [],
   "source": []
  },
  {
   "cell_type": "code",
   "execution_count": 24,
   "metadata": {},
   "outputs": [],
   "source": [
    "def coins_dp(values, target):\n",
    "    # memo[i]表示target为i的时候，所需的最少硬币数\n",
    "    memo = [0] * (target+1)\n",
    "    # 0元的时候为0个\n",
    "    memo[0] = 0\n",
    "\n",
    "    for i in range(1, target+1):\n",
    "        min_num = 999999\n",
    "        # 对于values中的所有n\n",
    "        # memo[i]为 min(memo[i-n1], memo[i-n2], ...) + 1\n",
    "        for n in values:\n",
    "            if i >= n:\n",
    "                min_num = min(min_num, 1 + memo[i-n])\n",
    "            else:   # values中的数值要从小到大排序\n",
    "                break\n",
    "        memo[i] = min_num\n",
    "    # print(memo)\n",
    "    return memo[-1]"
   ]
  },
  {
   "cell_type": "code",
   "execution_count": 25,
   "metadata": {},
   "outputs": [
    {
     "name": "stdout",
     "output_type": "stream",
     "text": [
      "5\n"
     ]
    }
   ],
   "source": [
    "values = [1, 3, 5]\n",
    "target = 23\n",
    "print(coins_dp(values, target))"
   ]
  },
  {
   "cell_type": "code",
   "execution_count": null,
   "metadata": {},
   "outputs": [],
   "source": []
  }
 ],
 "metadata": {
  "kernelspec": {
   "display_name": "Python 3",
   "language": "python",
   "name": "python3"
  },
  "language_info": {
   "codemirror_mode": {
    "name": "ipython",
    "version": 3
   },
   "file_extension": ".py",
   "mimetype": "text/x-python",
   "name": "python",
   "nbconvert_exporter": "python",
   "pygments_lexer": "ipython3",
   "version": "3.7.3"
  }
 },
 "nbformat": 4,
 "nbformat_minor": 2
}