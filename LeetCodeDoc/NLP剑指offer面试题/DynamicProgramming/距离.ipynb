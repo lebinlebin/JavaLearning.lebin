{
 "cells": [
  {
   "cell_type": "code",
   "execution_count": 1,
   "metadata": {},
   "outputs": [],
   "source": [
    "def levenshtein_dp(s, t):\n",
    "    m, n = len(s), len(t)\n",
    "    table = [[0] * (n) for _ in range(m)]\n",
    "\n",
    "    for i in range(n):\n",
    "        if s[0] == t[i]:\n",
    "            table[0][i] = i - 0\n",
    "        elif i != 0:\n",
    "            table[0][i] = table[0][i - 1] + 1\n",
    "        else:\n",
    "            table[0][i] = 1\n",
    "\n",
    "    for i in range(m):\n",
    "        if s[i] == t[0]:\n",
    "            table[i][0] = i - 0\n",
    "        elif i != 0:\n",
    "            table[i][0] = table[i - 1][0] + 1\n",
    "        else:\n",
    "            table[i][0] = 1\n",
    "\n",
    "    for i in range(1, m):\n",
    "        for j in range(1, n):\n",
    "            table[i][j] = min(1 + table[i - 1][j], 1 + table[i][j - 1], int(s[i] != t[j]) + table[i - 1][j - 1])\n",
    "\n",
    "    print(table)\n",
    "    return table[-1][-1]"
   ]
  },
  {
   "cell_type": "code",
   "execution_count": 2,
   "metadata": {},
   "outputs": [],
   "source": [
    "def common_substring_dp(s: str, t: str) -> int:\n",
    "    m, n = len(s), len(t)\n",
    "    table = [[0] * (n + 1) for _ in range(m + 1)]\n",
    "    for i in range(1, m + 1):\n",
    "        for j in range(1, n + 1):\n",
    "            table[i][j] = max(table[i - 1][j], table[i][j - 1], int(s[i - 1] == t[j - 1]) + table[i - 1][j - 1])\n",
    "    return table[-1][-1]"
   ]
  },
  {
   "cell_type": "code",
   "execution_count": 7,
   "metadata": {},
   "outputs": [
    {
     "name": "stdout",
     "output_type": "stream",
     "text": [
      "[[0, 1, 2, 3, 4, 5], [1, 1, 2, 3, 4, 5], [2, 1, 2, 3, 4, 5], [3, 2, 2, 2, 3, 4], [4, 3, 3, 3, 3, 4], [5, 4, 4, 4, 4, 3]]\n",
      "3\n",
      "4\n"
     ]
    }
   ],
   "source": [
    "    s = \"mitcmu\"\n",
    "    t = \"mtacnu\"\n",
    "\n",
    "    print(levenshtein_dp(s, t))\n",
    "    print(common_substring_dp(s, t))\n"
   ]
  },
  {
   "cell_type": "code",
   "execution_count": 4,
   "metadata": {},
   "outputs": [
    {
     "name": "stdout",
     "output_type": "stream",
     "text": [
      "[[1, 2, 3, 4, 5, 6, 7], [2, 1, 2, 3, 4, 5, 6], [3, 2, 1, 2, 3, 4, 5], [4, 3, 2, 1, 2, 3, 4], [5, 4, 3, 2, 2, 3, 4], [6, 5, 4, 3, 3, 2, 3]]\n",
      "3\n",
      "4\n"
     ]
    }
   ],
   "source": [
    "    s = \"kitten\"\n",
    "    t = \"sitting\"\n",
    "\n",
    "    print(levenshtein_dp(s, t))\n",
    "    print(common_substring_dp(s, t))"
   ]
  },
  {
   "cell_type": "code",
   "execution_count": 5,
   "metadata": {},
   "outputs": [
    {
     "name": "stdout",
     "output_type": "stream",
     "text": [
      "[[1, 2, 3, 4], [1, 2, 3, 4], [2, 1, 2, 3], [3, 2, 1, 2]]\n",
      "2\n",
      "3\n"
     ]
    }
   ],
   "source": [
    "    s = \"flaw\"\n",
    "    t = \"lawn\"\n",
    "\n",
    "    print(levenshtein_dp(s, t))\n",
    "    print(common_substring_dp(s, t))"
   ]
  },
  {
   "cell_type": "code",
   "execution_count": null,
   "metadata": {},
   "outputs": [],
   "source": []
  }
 ],
 "metadata": {
  "kernelspec": {
   "display_name": "Python 3",
   "language": "python",
   "name": "python3"
  },
  "language_info": {
   "codemirror_mode": {
    "name": "ipython",
    "version": 3
   },
   "file_extension": ".py",
   "mimetype": "text/x-python",
   "name": "python",
   "nbconvert_exporter": "python",
   "pygments_lexer": "ipython3",
   "version": "3.7.3"
  }
 },
 "nbformat": 4,
 "nbformat_minor": 2
}
