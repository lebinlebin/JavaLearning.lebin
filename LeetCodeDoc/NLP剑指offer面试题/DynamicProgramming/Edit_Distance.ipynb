{
 "cells": [
  {
   "cell_type": "markdown",
   "source": [
    "### Problem  2：  Edit Distance (编辑距离）\n",
    "编辑距离用来计算两个字符串之间的最短距离，这里涉及到三个不通过的操作，\n",
    "add, delete和replace. 每一个操作我们假定需要1各单位的cost.\n",
    "例子： \"apple\", \"appl\" 之间的编辑距离为1 （需要1个删除的操作）"
   ],
   "metadata": {
    "collapsed": false,
    "pycharm": {
     "name": "#%% md\n"
    }
   }
  },
  {
   "cell_type": "code",
   "execution_count": 1,
   "metadata": {},
   "outputs": [],
   "source": [
    "# 基于动态规划的解法\n",
    "def edit_dist(str1, str2):\n",
    "    \n",
    "    # m，n分别字符串str1和str2的长度\n",
    "    m, n = len(str1), len(str2)\n",
    "    \n",
    "    # 构建二位数组来存储子问题（sub-problem)的答案 \n",
    "    dp = [[0 for x in range(n+1)] for x in range(m+1)] \n",
    "      \n",
    "    # 利用动态规划算法，填充数组\n",
    "    for i in range(m+1): \n",
    "        for j in range(n+1): \n",
    "  \n",
    "            # 假设第一个字符串为空，则转换的代价为j (j次的插入)\n",
    "            if i == 0: \n",
    "                dp[i][j] = j    \n",
    "              \n",
    "            # 同样的，假设第二个字符串为空，则转换的代价为i (i次的插入)\n",
    "            elif j == 0:\n",
    "                dp[i][j] = i\n",
    "            \n",
    "            # 如果最后一个字符相等，就不会产生代价\n",
    "            elif str1[i-1] == str2[j-1]: \n",
    "                dp[i][j] = dp[i-1][j-1] \n",
    "  \n",
    "            # 如果最后一个字符不一样，则考虑多种可能性，并且选择其中最小的值\n",
    "            else: \n",
    "                dp[i][j] = 1 + min(dp[i][j-1],        # Insert \n",
    "                                   dp[i-1][j],        # Remove \n",
    "                                   dp[i-1][j-1])      # Replace \n",
    "  \n",
    "    return dp[m][n] "
   ]
  },
  {
   "cell_type": "code",
   "execution_count": 2,
   "metadata": {},
   "outputs": [
    {
     "data": {
      "text/plain": "2"
     },
     "execution_count": 2,
     "metadata": {},
     "output_type": "execute_result"
    }
   ],
   "source": [
    "edit_dist(\"apple\", \"app\")"
   ]
  },
  {
   "cell_type": "markdown",
   "metadata": {
    "pycharm": {
     "name": "#%% md"
    }
   },
   "source": []
  }
 ],
 "metadata": {
  "kernelspec": {
   "display_name": "Python 3",
   "language": "python",
   "name": "python3"
  },
  "language_info": {
   "codemirror_mode": {
    "name": "ipython",
    "version": 3
   },
   "file_extension": ".py",
   "mimetype": "text/x-python",
   "name": "python",
   "nbconvert_exporter": "python",
   "pygments_lexer": "ipython3",
   "version": "3.7.6"
  }
 },
 "nbformat": 4,
 "nbformat_minor": 2
}