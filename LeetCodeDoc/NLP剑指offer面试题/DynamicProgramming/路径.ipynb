{
 "cells": [
  {
   "cell_type": "code",
   "execution_count": 13,
   "metadata": {},
   "outputs": [],
   "source": [
    "from itertools import accumulate\n",
    "def min_dist(weights):\n",
    "    \"\"\"Find the minimum weight path from the weights matrix.\"\"\"\n",
    "    m, n = len(weights), len(weights[0])\n",
    "    table = [[0] * n for _ in range(m)]\n",
    "    # table[i][j] is the minimum distance (weight) when\n",
    "    # there are i vertical moves and j horizontal moves left.\n",
    "    table[0] = list(accumulate(reversed(weights[-1])))\n",
    "    for i, v in enumerate(accumulate(row[-1] for row in reversed(weights))):\n",
    "        table[i][0] = v\n",
    "    for i in range(1, m):\n",
    "        for j in range(1, n):\n",
    "            table[i][j] = weights[~i][~j] + min(table[i - 1][j], table[i][j - 1])\n",
    "    return table[-1][-1]"
   ]
  },
  {
   "cell_type": "code",
   "execution_count": 3,
   "metadata": {},
   "outputs": [],
   "source": [
    "def min_dist_recur(weights):\n",
    "    m, n = len(weights), len(weights[0])\n",
    "    table = [[0] * n for _ in range(m)]\n",
    "    def min_dist_to(i: int, j: int) -> int:\n",
    "        if i == j == 0: return weights[0][0]\n",
    "        if table[i][j]: return table[i][j]\n",
    "        min_left = float(\"inf\") if j - 1 < 0 else min_dist_to(i, j - 1)\n",
    "        min_up = float(\"inf\") if i - 1 < 0 else min_dist_to(i - 1, j)\n",
    "        return weights[i][j] + min(min_left, min_up)\n",
    "    return min_dist_to(m - 1, n - 1)"
   ]
  },
  {
   "cell_type": "code",
   "execution_count": 8,
   "metadata": {},
   "outputs": [],
   "source": [
    "weights = [[1, 3, 5, 9], [2, 1, 3, 4], [5, 2, 6, 7], [6, 8, 4, 3]]"
   ]
  },
  {
   "cell_type": "code",
   "execution_count": 14,
   "metadata": {},
   "outputs": [
    {
     "name": "stdout",
     "output_type": "stream",
     "text": [
      "19\n"
     ]
    }
   ],
   "source": [
    "print(min_dist(weights))"
   ]
  },
  {
   "cell_type": "code",
   "execution_count": 6,
   "metadata": {},
   "outputs": [
    {
     "name": "stdout",
     "output_type": "stream",
     "text": [
      "19\n"
     ]
    }
   ],
   "source": [
    "print(min_dist_recur(weights))"
   ]
  },
  {
   "cell_type": "code",
   "execution_count": null,
   "metadata": {},
   "outputs": [],
   "source": []
  }
 ],
 "metadata": {
  "kernelspec": {
   "display_name": "Python 3",
   "language": "python",
   "name": "python3"
  },
  "language_info": {
   "codemirror_mode": {
    "name": "ipython",
    "version": 3
   },
   "file_extension": ".py",
   "mimetype": "text/x-python",
   "name": "python",
   "nbconvert_exporter": "python",
   "pygments_lexer": "ipython3",
   "version": "3.7.3"
  }
 },
 "nbformat": 4,
 "nbformat_minor": 2
}
