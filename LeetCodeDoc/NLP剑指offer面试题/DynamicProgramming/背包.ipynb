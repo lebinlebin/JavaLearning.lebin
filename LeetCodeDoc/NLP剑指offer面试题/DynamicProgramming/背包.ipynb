{
 "cells": [
  {
   "cell_type": "code",
   "execution_count": 1,
   "metadata": {},
   "outputs": [],
   "source": [
    "def bag(items_info, capacity):\n",
    "    \"\"\"\n",
    "    固定容量的背包，计算能装进背包的物品组合的最大重量\n",
    "    :param items_info: 每个物品的重量\n",
    "    :param capacity: 背包容量\n",
    "    :return: 最大装载重量\n",
    "    \"\"\"\n",
    "    n = len(items_info)\n",
    "    memo = [[-1]*(capacity+1) for i in range(n)]\n",
    "    memo[0][0] = 1\n",
    "    if items_info[0] <= capacity:\n",
    "        memo[0][items_info[0]] = 1\n",
    "\n",
    "    for i in range(1, n):\n",
    "        for cur_weight in range(capacity+1):\n",
    "            if memo[i-1][cur_weight] != -1:\n",
    "                memo[i][cur_weight] = memo[i-1][cur_weight]   # 不选\n",
    "                if cur_weight + items_info[i] <= capacity:    # 选\n",
    "                    memo[i][cur_weight + items_info[i]] = 1\n",
    "\n",
    "    for w in range(capacity, -1, -1):\n",
    "        if memo[-1][w] != -1:\n",
    "            return w"
   ]
  },
  {
   "cell_type": "code",
   "execution_count": 9,
   "metadata": {},
   "outputs": [],
   "source": [
    "def bag_with_max_value(items_info, capacity):\n",
    "    \"\"\"\n",
    "    固定容量的背包，计算能装进背包的物品组合的最大价值\n",
    "    :param items_info: 物品的重量和价值\n",
    "    :param capacity: 背包容量\n",
    "    :return: 最大装载价值\n",
    "    \"\"\"\n",
    "    n = len(items_info)\n",
    "    memo = [[-1]*(capacity+1) for i in range(n)]\n",
    "    memo[0][0] = 0\n",
    "    if items_info[0][0] <= capacity:\n",
    "        memo[0][items_info[0][0]] = items_info[0][1]\n",
    "\n",
    "    for i in range(1, n):\n",
    "        for cur_weight in range(capacity+1):\n",
    "            if memo[i-1][cur_weight] != -1:\n",
    "                memo[i][cur_weight] = memo[i-1][cur_weight]\n",
    "                if cur_weight + items_info[i][0] <= capacity:\n",
    "                    memo[i][cur_weight + items_info[i][0]] = max(memo[i][cur_weight + items_info[i][0]],\n",
    "                                                                 memo[i-1][cur_weight] + items_info[i][1])\n",
    "    return max(memo[-1])\n"
   ]
  },
  {
   "cell_type": "code",
   "execution_count": 6,
   "metadata": {},
   "outputs": [
    {
     "name": "stdout",
     "output_type": "stream",
     "text": [
      "9\n"
     ]
    }
   ],
   "source": [
    "items_info = [2, 2, 4, 6, 3]\n",
    "capacity = 9\n",
    "print(bag(items_info, capacity))"
   ]
  },
  {
   "cell_type": "code",
   "execution_count": 10,
   "metadata": {},
   "outputs": [
    {
     "name": "stdout",
     "output_type": "stream",
     "text": [
      "19\n"
     ]
    }
   ],
   "source": [
    "items_info = [(3, 5), (2, 2), (1, 4), (1, 2), (4, 10)]\n",
    "capacity = 8\n",
    "print(bag_with_max_value(items_info, capacity))"
   ]
  },
  {
   "cell_type": "code",
   "execution_count": null,
   "metadata": {},
   "outputs": [],
   "source": []
  }
 ],
 "metadata": {
  "kernelspec": {
   "display_name": "Python 3",
   "language": "python",
   "name": "python3"
  },
  "language_info": {
   "codemirror_mode": {
    "name": "ipython",
    "version": 3
   },
   "file_extension": ".py",
   "mimetype": "text/x-python",
   "name": "python",
   "nbconvert_exporter": "python",
   "pygments_lexer": "ipython3",
   "version": "3.7.3"
  }
 },
 "nbformat": 4,
 "nbformat_minor": 2
}
